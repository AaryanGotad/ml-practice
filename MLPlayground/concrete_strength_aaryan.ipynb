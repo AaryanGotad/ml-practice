{
 "cells": [
  {
   "cell_type": "markdown",
   "id": "3a815c2b",
   "metadata": {},
   "source": [
    "## Concrete Strength Prediction using Linear Regression"
   ]
  },
  {
   "cell_type": "markdown",
   "id": "f63a40bd",
   "metadata": {},
   "source": [
    "This notebook analyzes concrete strength data and builds a linear regression model to predict concrete strength based on various components"
   ]
  },
  {
   "cell_type": "markdown",
   "id": "6a8fc27b",
   "metadata": {},
   "source": [
    "## Import Required Libraries\n",
    "\n",
    "Import pandas, numpy, matplotlib, seaborn, and sklearn libraries for data manipulation, visualisation and machine learning."
   ]
  },
  {
   "cell_type": "code",
   "execution_count": null,
   "id": "e3d67664",
   "metadata": {},
   "outputs": [
    {
     "ename": "",
     "evalue": "",
     "output_type": "error",
     "traceback": [
      "\u001b[1;31mRunning cells with 'Python 3.13.6' requires the ipykernel package.\n",
      "\u001b[1;31m<a href='command:jupyter.createPythonEnvAndSelectController'>Create a Python Environment</a> with the required packages.\n",
      "\u001b[1;31mOr install 'ipykernel' using the command: '\"c:/Users/Aaryan Gotad/AppData/Local/Microsoft/WindowsApps/python3.13.exe\" -m pip install ipykernel -U --user --force-reinstall'"
     ]
    }
   ],
   "source": [
    "import pandas as pd\n",
    "import numpy as np\n",
    "import matplotlib.pyplot as plt\n",
    "import seaborn as sns\n",
    "from sklearn.model_selection import train_test_split\n",
    "from sklearn.linear_model import LinearRegression\n",
    "from sklearn.metrics import mean_squared_error, r2_score, mean_absolute_error\n",
    "from sklearn.preprocessing import StandardScaler\n",
    "import warnings\n",
    "\n",
    "warnings.filterwarnings('ignore')\n",
    "\n",
    "# set style for plots\n",
    "plt.style.use('seaborn-v0_8')\n",
    "sns.set_palette('husl')\n",
    "\n",
    "print(\"Libraries imported successfully\")"
   ]
  }
 ],
 "metadata": {
  "kernelspec": {
   "display_name": "Python 3",
   "language": "python",
   "name": "python3"
  },
  "language_info": {
   "name": "python",
   "version": "3.13.6"
  }
 },
 "nbformat": 4,
 "nbformat_minor": 5
}
