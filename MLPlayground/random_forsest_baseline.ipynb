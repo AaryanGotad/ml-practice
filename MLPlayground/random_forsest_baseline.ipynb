{
 "cells": [
  {
   "cell_type": "markdown",
   "id": "0a1ee820",
   "metadata": {},
   "source": [
    "# Concrete Strength Prediction using Random Forest\n",
    "\n",
    "This notebook analyzes concrete strength data and builds a Random Forest model to predict concrete strength based on various components."
   ]
  },
  {
   "cell_type": "markdown",
   "id": "3e76ced8",
   "metadata": {},
   "source": [
    "## 1. Import Required Libraries\n",
    "\n",
    "Import pandas, numpy, matplotlib, seaborn, and sklearn libraries for data manipulation, visualization, and machine learning."
   ]
  },
  {
   "cell_type": "code",
   "execution_count": 16,
   "id": "c046aee7",
   "metadata": {},
   "outputs": [
    {
     "name": "stdout",
     "output_type": "stream",
     "text": [
      "Libraries imported successfully!\n"
     ]
    }
   ],
   "source": [
    "# Import required libraries\n",
    "import pandas as pd\n",
    "import numpy as np\n",
    "import matplotlib.pyplot as plt\n",
    "import seaborn as sns\n",
    "from sklearn.model_selection import train_test_split\n",
    "from sklearn.ensemble import RandomForestRegressor\n",
    "import xgboost as xgb\n",
    "from sklearn.metrics import mean_squared_error, r2_score, mean_absolute_error\n",
    "from sklearn.preprocessing import StandardScaler\n",
    "import warnings\n",
    "warnings.filterwarnings('ignore')\n",
    "\n",
    "# Set style for plots\n",
    "plt.style.use('seaborn-v0_8')\n",
    "sns.set_palette(\"husl\")\n",
    "\n",
    "print(\"Libraries imported successfully!\")"
   ]
  },
  {
   "cell_type": "markdown",
   "id": "577439d5",
   "metadata": {},
   "source": [
    "## 2. Load the Dataset\n",
    "\n",
    "Use pandas to load the training and test datasets from CSV files."
   ]
  },
  {
   "cell_type": "code",
   "execution_count": 17,
   "id": "91d405d8",
   "metadata": {},
   "outputs": [
    {
     "name": "stdout",
     "output_type": "stream",
     "text": [
      "Training data shape: (5407, 10)\n",
      "Test data shape: (3605, 9)\n",
      "Sample submission shape: (3605, 2)\n",
      "\n",
      "First 5 rows of training data:\n"
     ]
    },
    {
     "data": {
      "text/html": [
       "<div>\n",
       "<style scoped>\n",
       "    .dataframe tbody tr th:only-of-type {\n",
       "        vertical-align: middle;\n",
       "    }\n",
       "\n",
       "    .dataframe tbody tr th {\n",
       "        vertical-align: top;\n",
       "    }\n",
       "\n",
       "    .dataframe thead th {\n",
       "        text-align: right;\n",
       "    }\n",
       "</style>\n",
       "<table border=\"1\" class=\"dataframe\">\n",
       "  <thead>\n",
       "    <tr style=\"text-align: right;\">\n",
       "      <th></th>\n",
       "      <th>id</th>\n",
       "      <th>CementComponent</th>\n",
       "      <th>BlastFurnaceSlag</th>\n",
       "      <th>FlyAshComponent</th>\n",
       "      <th>WaterComponent</th>\n",
       "      <th>SuperplasticizerComponent</th>\n",
       "      <th>CoarseAggregateComponent</th>\n",
       "      <th>FineAggregateComponent</th>\n",
       "      <th>AgeInDays</th>\n",
       "      <th>Strength</th>\n",
       "    </tr>\n",
       "  </thead>\n",
       "  <tbody>\n",
       "    <tr>\n",
       "      <th>0</th>\n",
       "      <td>0</td>\n",
       "      <td>525.0</td>\n",
       "      <td>0.0</td>\n",
       "      <td>0.0</td>\n",
       "      <td>186.0</td>\n",
       "      <td>0.0</td>\n",
       "      <td>1125.0</td>\n",
       "      <td>613.0</td>\n",
       "      <td>3</td>\n",
       "      <td>10.38</td>\n",
       "    </tr>\n",
       "    <tr>\n",
       "      <th>1</th>\n",
       "      <td>1</td>\n",
       "      <td>143.0</td>\n",
       "      <td>169.0</td>\n",
       "      <td>143.0</td>\n",
       "      <td>191.0</td>\n",
       "      <td>8.0</td>\n",
       "      <td>967.0</td>\n",
       "      <td>643.0</td>\n",
       "      <td>28</td>\n",
       "      <td>23.52</td>\n",
       "    </tr>\n",
       "    <tr>\n",
       "      <th>2</th>\n",
       "      <td>2</td>\n",
       "      <td>289.0</td>\n",
       "      <td>134.7</td>\n",
       "      <td>0.0</td>\n",
       "      <td>185.7</td>\n",
       "      <td>0.0</td>\n",
       "      <td>1075.0</td>\n",
       "      <td>795.3</td>\n",
       "      <td>28</td>\n",
       "      <td>36.96</td>\n",
       "    </tr>\n",
       "    <tr>\n",
       "      <th>3</th>\n",
       "      <td>3</td>\n",
       "      <td>304.0</td>\n",
       "      <td>76.0</td>\n",
       "      <td>0.0</td>\n",
       "      <td>228.0</td>\n",
       "      <td>0.0</td>\n",
       "      <td>932.0</td>\n",
       "      <td>670.0</td>\n",
       "      <td>365</td>\n",
       "      <td>39.05</td>\n",
       "    </tr>\n",
       "    <tr>\n",
       "      <th>4</th>\n",
       "      <td>4</td>\n",
       "      <td>157.0</td>\n",
       "      <td>236.0</td>\n",
       "      <td>0.0</td>\n",
       "      <td>192.0</td>\n",
       "      <td>0.0</td>\n",
       "      <td>935.4</td>\n",
       "      <td>781.2</td>\n",
       "      <td>90</td>\n",
       "      <td>74.19</td>\n",
       "    </tr>\n",
       "  </tbody>\n",
       "</table>\n",
       "</div>"
      ],
      "text/plain": [
       "   id  CementComponent  BlastFurnaceSlag  FlyAshComponent  WaterComponent  \\\n",
       "0   0            525.0               0.0              0.0           186.0   \n",
       "1   1            143.0             169.0            143.0           191.0   \n",
       "2   2            289.0             134.7              0.0           185.7   \n",
       "3   3            304.0              76.0              0.0           228.0   \n",
       "4   4            157.0             236.0              0.0           192.0   \n",
       "\n",
       "   SuperplasticizerComponent  CoarseAggregateComponent  \\\n",
       "0                        0.0                    1125.0   \n",
       "1                        8.0                     967.0   \n",
       "2                        0.0                    1075.0   \n",
       "3                        0.0                     932.0   \n",
       "4                        0.0                     935.4   \n",
       "\n",
       "   FineAggregateComponent  AgeInDays  Strength  \n",
       "0                   613.0          3     10.38  \n",
       "1                   643.0         28     23.52  \n",
       "2                   795.3         28     36.96  \n",
       "3                   670.0        365     39.05  \n",
       "4                   781.2         90     74.19  "
      ]
     },
     "execution_count": 17,
     "metadata": {},
     "output_type": "execute_result"
    }
   ],
   "source": [
    "# Load the datasets\n",
    "train_df = pd.read_csv('datasets/train.csv')\n",
    "test_df = pd.read_csv('datasets/test.csv')\n",
    "sample_submission = pd.read_csv('datasets/sample_submission.csv')\n",
    "\n",
    "print(f\"Training data shape: {train_df.shape}\")\n",
    "print(f\"Test data shape: {test_df.shape}\")\n",
    "print(f\"Sample submission shape: {sample_submission.shape}\")\n",
    "\n",
    "# Display first few rows of training data\n",
    "print(\"\\nFirst 5 rows of training data:\")\n",
    "train_df.head()"
   ]
  },
  {
   "cell_type": "markdown",
   "id": "65bbaffb",
   "metadata": {},
   "source": [
    "## 5. Data Preprocessing\n",
    "\n",
    "Handle missing values, encode categorical variables, and prepare features for the Random Forest model."
   ]
  },
  {
   "cell_type": "code",
   "execution_count": 18,
   "id": "d7016fbe",
   "metadata": {},
   "outputs": [],
   "source": [
    "# for component in ['BlastFurnaceSlag', 'FlyAshComponent', 'SuperplasticizerComponent']:\n",
    "#     train_df.loc[train_df[component] != 0, f'{component}_used'] = 1\n",
    "#     train_df[f'{component}_used'] = train_df[f'{component}_used'].fillna(0)\n",
    "#     train_df[f'{component}_used'] = train_df[f'{component}_used'].astype(int)\n",
    "\n",
    "#     test_df.loc[test_df[component] != 0, f'{component}_used'] = 1\n",
    "#     test_df[f'{component}_used'] = test_df[f'{component}_used'].fillna(0)\n",
    "#     test_df[f'{component}_used'] = test_df[f'{component}_used'].astype(int)"
   ]
  },
  {
   "cell_type": "code",
   "execution_count": 19,
   "id": "be6590ce",
   "metadata": {},
   "outputs": [
    {
     "name": "stdout",
     "output_type": "stream",
     "text": [
      "Missing values in training data:\n",
      "id                           0\n",
      "CementComponent              0\n",
      "BlastFurnaceSlag             0\n",
      "FlyAshComponent              0\n",
      "WaterComponent               0\n",
      "SuperplasticizerComponent    0\n",
      "CoarseAggregateComponent     0\n",
      "FineAggregateComponent       0\n",
      "AgeInDays                    0\n",
      "Strength                     0\n",
      "dtype: int64\n",
      "\n",
      "Missing values in test data:\n",
      "id                           0\n",
      "CementComponent              0\n",
      "BlastFurnaceSlag             0\n",
      "FlyAshComponent              0\n",
      "WaterComponent               0\n",
      "SuperplasticizerComponent    0\n",
      "CoarseAggregateComponent     0\n",
      "FineAggregateComponent       0\n",
      "AgeInDays                    0\n",
      "dtype: int64\n",
      "\n",
      "Feature matrix shape: (5407, 8)\n",
      "Target vector shape: (5407,)\n",
      "Test feature matrix shape: (3605, 8)\n",
      "\n",
      "Feature columns:\n",
      "['CementComponent', 'BlastFurnaceSlag', 'FlyAshComponent', 'WaterComponent', 'SuperplasticizerComponent', 'CoarseAggregateComponent', 'FineAggregateComponent', 'AgeInDays']\n"
     ]
    }
   ],
   "source": [
    "# Check for missing values again\n",
    "print(\"Missing values in training data:\")\n",
    "print(train_df.isnull().sum())\n",
    "print(\"\\nMissing values in test data:\")\n",
    "print(test_df.isnull().sum())\n",
    "\n",
    "# Since there are no missing values, we proceed to feature selection\n",
    "# Prepare features and target\n",
    "X = train_df.drop(['id', 'Strength'], axis=1)\n",
    "y = train_df['Strength']\n",
    "X_test = test_df.drop(['id'], axis=1)\n",
    "\n",
    "print(f\"\\nFeature matrix shape: {X.shape}\")\n",
    "print(f\"Target vector shape: {y.shape}\")\n",
    "print(f\"Test feature matrix shape: {X_test.shape}\")\n",
    "\n",
    "print(\"\\nFeature columns:\")\n",
    "print(X.columns.tolist())"
   ]
  },
  {
   "cell_type": "code",
   "execution_count": 20,
   "id": "9900f9aa",
   "metadata": {},
   "outputs": [
    {
     "name": "stdout",
     "output_type": "stream",
     "text": [
      "Random Forest can work with original features without scaling.\n",
      "Using original features for Random Forest model.\n",
      "\n",
      "Training features shape: (5407, 8)\n",
      "Test features shape: (3605, 8)\n",
      "\n",
      "First 5 rows of features:\n"
     ]
    },
    {
     "data": {
      "text/html": [
       "<div>\n",
       "<style scoped>\n",
       "    .dataframe tbody tr th:only-of-type {\n",
       "        vertical-align: middle;\n",
       "    }\n",
       "\n",
       "    .dataframe tbody tr th {\n",
       "        vertical-align: top;\n",
       "    }\n",
       "\n",
       "    .dataframe thead th {\n",
       "        text-align: right;\n",
       "    }\n",
       "</style>\n",
       "<table border=\"1\" class=\"dataframe\">\n",
       "  <thead>\n",
       "    <tr style=\"text-align: right;\">\n",
       "      <th></th>\n",
       "      <th>CementComponent</th>\n",
       "      <th>BlastFurnaceSlag</th>\n",
       "      <th>FlyAshComponent</th>\n",
       "      <th>WaterComponent</th>\n",
       "      <th>SuperplasticizerComponent</th>\n",
       "      <th>CoarseAggregateComponent</th>\n",
       "      <th>FineAggregateComponent</th>\n",
       "      <th>AgeInDays</th>\n",
       "    </tr>\n",
       "  </thead>\n",
       "  <tbody>\n",
       "    <tr>\n",
       "      <th>0</th>\n",
       "      <td>525.0</td>\n",
       "      <td>0.0</td>\n",
       "      <td>0.0</td>\n",
       "      <td>186.0</td>\n",
       "      <td>0.0</td>\n",
       "      <td>1125.0</td>\n",
       "      <td>613.0</td>\n",
       "      <td>3</td>\n",
       "    </tr>\n",
       "    <tr>\n",
       "      <th>1</th>\n",
       "      <td>143.0</td>\n",
       "      <td>169.0</td>\n",
       "      <td>143.0</td>\n",
       "      <td>191.0</td>\n",
       "      <td>8.0</td>\n",
       "      <td>967.0</td>\n",
       "      <td>643.0</td>\n",
       "      <td>28</td>\n",
       "    </tr>\n",
       "    <tr>\n",
       "      <th>2</th>\n",
       "      <td>289.0</td>\n",
       "      <td>134.7</td>\n",
       "      <td>0.0</td>\n",
       "      <td>185.7</td>\n",
       "      <td>0.0</td>\n",
       "      <td>1075.0</td>\n",
       "      <td>795.3</td>\n",
       "      <td>28</td>\n",
       "    </tr>\n",
       "    <tr>\n",
       "      <th>3</th>\n",
       "      <td>304.0</td>\n",
       "      <td>76.0</td>\n",
       "      <td>0.0</td>\n",
       "      <td>228.0</td>\n",
       "      <td>0.0</td>\n",
       "      <td>932.0</td>\n",
       "      <td>670.0</td>\n",
       "      <td>365</td>\n",
       "    </tr>\n",
       "    <tr>\n",
       "      <th>4</th>\n",
       "      <td>157.0</td>\n",
       "      <td>236.0</td>\n",
       "      <td>0.0</td>\n",
       "      <td>192.0</td>\n",
       "      <td>0.0</td>\n",
       "      <td>935.4</td>\n",
       "      <td>781.2</td>\n",
       "      <td>90</td>\n",
       "    </tr>\n",
       "  </tbody>\n",
       "</table>\n",
       "</div>"
      ],
      "text/plain": [
       "   CementComponent  BlastFurnaceSlag  FlyAshComponent  WaterComponent  \\\n",
       "0            525.0               0.0              0.0           186.0   \n",
       "1            143.0             169.0            143.0           191.0   \n",
       "2            289.0             134.7              0.0           185.7   \n",
       "3            304.0              76.0              0.0           228.0   \n",
       "4            157.0             236.0              0.0           192.0   \n",
       "\n",
       "   SuperplasticizerComponent  CoarseAggregateComponent  \\\n",
       "0                        0.0                    1125.0   \n",
       "1                        8.0                     967.0   \n",
       "2                        0.0                    1075.0   \n",
       "3                        0.0                     932.0   \n",
       "4                        0.0                     935.4   \n",
       "\n",
       "   FineAggregateComponent  AgeInDays  \n",
       "0                   613.0          3  \n",
       "1                   643.0         28  \n",
       "2                   795.3         28  \n",
       "3                   670.0        365  \n",
       "4                   781.2         90  "
      ]
     },
     "execution_count": 20,
     "metadata": {},
     "output_type": "execute_result"
    }
   ],
   "source": [
    "# Random Forest doesn't require feature scaling, but we'll keep the option\n",
    "# For Random Forest, we'll use the original features without scaling\n",
    "print(\"Random Forest can work with original features without scaling.\")\n",
    "print(f\"Using original features for Random Forest model.\")\n",
    "\n",
    "# Keep the original features for Random Forest\n",
    "X_final = X.copy()\n",
    "X_test_final = X_test.copy()\n",
    "\n",
    "print(f\"\\nTraining features shape: {X_final.shape}\")\n",
    "print(f\"Test features shape: {X_test_final.shape}\")\n",
    "\n",
    "# Display first few rows of features\n",
    "print(\"\\nFirst 5 rows of features:\")\n",
    "X_final.head()"
   ]
  },
  {
   "cell_type": "markdown",
   "id": "d386f792",
   "metadata": {},
   "source": [
    "## 6. Split Data into Train and Test Sets\n",
    "\n",
    "Separate features and target variables, and split the training data for model validation."
   ]
  },
  {
   "cell_type": "code",
   "execution_count": 21,
   "id": "27f60bad",
   "metadata": {},
   "outputs": [
    {
     "name": "stdout",
     "output_type": "stream",
     "text": [
      "Training set shape: (4325, 8)\n",
      "Validation set shape: (1082, 8)\n",
      "Training target shape: (4325,)\n",
      "Validation target shape: (1082,)\n",
      "\n",
      "Training set percentage: 80.0%\n",
      "Validation set percentage: 20.0%\n"
     ]
    }
   ],
   "source": [
    "# Split the training data for validation\n",
    "X_train, X_val, y_train, y_val = train_test_split(\n",
    "    X_final, y, test_size=0.2, random_state=42\n",
    ")\n",
    "\n",
    "print(f\"Training set shape: {X_train.shape}\")\n",
    "print(f\"Validation set shape: {X_val.shape}\")\n",
    "print(f\"Training target shape: {y_train.shape}\")\n",
    "print(f\"Validation target shape: {y_val.shape}\")\n",
    "\n",
    "print(f\"\\nTraining set percentage: {len(X_train) / len(X_final) * 100:.1f}%\")\n",
    "print(f\"Validation set percentage: {len(X_val) / len(X_final) * 100:.1f}%\")"
   ]
  },
  {
   "cell_type": "markdown",
   "id": "a7886189",
   "metadata": {},
   "source": [
    "## 7. Train Random Forest Model\n",
    "\n",
    "Create and train a Random Forest model using sklearn, and evaluate its performance on validation data."
   ]
  },
  {
   "cell_type": "code",
   "execution_count": 22,
   "id": "216b9d76",
   "metadata": {},
   "outputs": [
    {
     "name": "stdout",
     "output_type": "stream",
     "text": [
      "Random Forest model trained successfully!\n",
      "Number of trees: 100\n",
      "Feature importance shape: (8,)\n",
      "\n",
      "Model Performance on Validation Set:\n",
      "Mean Squared Error (MSE): 139.3029\n",
      "Root Mean Squared Error (RMSE): 11.8027\n",
      "Mean Absolute Error (MAE): 9.2575\n",
      "R² Score: 0.4881\n"
     ]
    }
   ],
   "source": [
    "# Create and train the Random Forest model\n",
    "rf_model = RandomForestRegressor(\n",
    "    n_estimators=100,        # Number of trees\n",
    "    max_depth=5,          # Maximum depth of trees\n",
    "    min_samples_split=2,     # Minimum samples required to split\n",
    "    min_samples_leaf=1,      # Minimum samples required at leaf node\n",
    "    random_state=42,         # For reproducibility\n",
    "    n_jobs=-1               # Use all available cores\n",
    ")\n",
    "\n",
    "rf_model.fit(X_train, y_train)\n",
    "\n",
    "print(\"Random Forest model trained successfully!\")\n",
    "print(f\"Number of trees: {rf_model.n_estimators}\")\n",
    "print(f\"Feature importance shape: {rf_model.feature_importances_.shape}\")\n",
    "\n",
    "# Make predictions on validation set\n",
    "y_val_pred = rf_model.predict(X_val)\n",
    "\n",
    "# Calculate metrics\n",
    "mse = mean_squared_error(y_val, y_val_pred)\n",
    "rmse = np.sqrt(mse)\n",
    "mae = mean_absolute_error(y_val, y_val_pred)\n",
    "r2 = r2_score(y_val, y_val_pred)\n",
    "\n",
    "print(f\"\\nModel Performance on Validation Set:\")\n",
    "print(f\"Mean Squared Error (MSE): {mse:.4f}\")\n",
    "print(f\"Root Mean Squared Error (RMSE): {rmse:.4f}\")\n",
    "print(f\"Mean Absolute Error (MAE): {mae:.4f}\")\n",
    "print(f\"R² Score: {r2:.4f}\")"
   ]
  },
  {
   "cell_type": "code",
   "execution_count": 23,
   "id": "07b709b7",
   "metadata": {},
   "outputs": [],
   "source": [
    "# # Create and train the Random Forest model\n",
    "# rf_model = xgb.XGBRegressor(\n",
    "#     n_estimators=100,\n",
    "#     max_depth=4,\n",
    "#     min_samples_split=2,\n",
    "#     min_samples_leaf=1,\n",
    "#     random_state=42,\n",
    "#     n_jobs=-1\n",
    "# )\n",
    "\n",
    "# rf_model.fit(X_train, y_train)\n",
    "\n",
    "# print(\"Random Forest model trained successfully!\")\n",
    "# print(f\"Number of trees: {rf_model.n_estimators}\")\n",
    "# print(f\"Feature importance shape: {rf_model.feature_importances_.shape}\")\n",
    "\n",
    "# # Make predictions on validation set\n",
    "# y_val_pred = rf_model.predict(X_val)\n",
    "\n",
    "# # Calculate metrics\n",
    "# mse = mean_squared_error(y_val, y_val_pred)\n",
    "# rmse = np.sqrt(mse)\n",
    "# mae = mean_absolute_error(y_val, y_val_pred)\n",
    "# r2 = r2_score(y_val, y_val_pred)\n",
    "\n",
    "# print(f\"\\nModel Performance on Validation Set:\")\n",
    "# print(f\"Mean Squared Error (MSE): {mse:.4f}\")\n",
    "# print(f\"Root Mean Squared Error (RMSE): {rmse:.4f}\")\n",
    "# print(f\"Mean Absolute Error (MAE): {mae:.4f}\")\n",
    "# print(f\"R² Score: {r2:.4f}\")"
   ]
  },
  {
   "cell_type": "code",
   "execution_count": 24,
   "id": "3660bda3",
   "metadata": {},
   "outputs": [
    {
     "name": "stdout",
     "output_type": "stream",
     "text": [
      "Feature Importance (Random Forest):\n",
      "                     Feature  Importance\n",
      "7                  AgeInDays    0.761774\n",
      "4  SuperplasticizerComponent    0.089135\n",
      "0            CementComponent    0.068255\n",
      "3             WaterComponent    0.025125\n",
      "6     FineAggregateComponent    0.024357\n",
      "5   CoarseAggregateComponent    0.012795\n",
      "1           BlastFurnaceSlag    0.009864\n",
      "2            FlyAshComponent    0.008695\n"
     ]
    },
    {
     "data": {
      "image/png": "[encoded data removed]",
      "text/plain": [
       "<Figure size 1000x600 with 1 Axes>"
      ]
     },
     "metadata": {},
     "output_type": "display_data"
    },
    {
     "name": "stdout",
     "output_type": "stream",
     "text": [
      "\n",
      "Top 5 most important features:\n",
      "AgeInDays: 0.7618\n",
      "SuperplasticizerComponent: 0.0891\n",
      "CementComponent: 0.0683\n",
      "WaterComponent: 0.0251\n",
      "FineAggregateComponent: 0.0244\n",
      "\n",
      "Random Forest Model Details:\n",
      "Number of features used: 8\n",
      "Out-of-bag score: Not available (oob_score=False)\n"
     ]
    }
   ],
   "source": [
    "# Feature importance from Random Forest\n",
    "feature_importance = pd.DataFrame({\n",
    "    'Feature': X.columns,\n",
    "    'Importance': rf_model.feature_importances_\n",
    "}).sort_values('Importance', ascending=False)\n",
    "\n",
    "print(\"Feature Importance (Random Forest):\")\n",
    "print(feature_importance)\n",
    "\n",
    "# Plot feature importance\n",
    "plt.figure(figsize=(10, 6))\n",
    "sns.barplot(data=feature_importance, x='Importance', y='Feature')\n",
    "plt.title('Feature Importance (Random Forest)')\n",
    "plt.xlabel('Feature Importance Score')\n",
    "plt.show()\n",
    "\n",
    "# Show top 5 most important features\n",
    "print(f\"\\nTop 5 most important features:\")\n",
    "for i, row in feature_importance.head().iterrows():\n",
    "    print(f\"{row['Feature']}: {row['Importance']:.4f}\")\n",
    "\n",
    "# Additional Random Forest specific metrics\n",
    "print(f\"\\nRandom Forest Model Details:\")\n",
    "print(f\"Number of features used: {rf_model.n_features_in_}\")\n",
    "print(f\"Out-of-bag score: {rf_model.oob_score_ if hasattr(rf_model, 'oob_score_') else 'Not available (oob_score=False)'}\")"
   ]
  },
  {
   "cell_type": "code",
   "execution_count": 29,
   "id": "338a1e05",
   "metadata": {},
   "outputs": [
    {
     "name": "stdout",
     "output_type": "stream",
     "text": [
      "Random Forest Model Analysis:\n",
      "Number of trees: 100\n",
      "Average tree depth (sample of 10 trees): 5.00\n",
      "Max tree depth (sample): 5\n",
      "Min tree depth (sample): 5\n"
     ]
    },
    {
     "data": {
      "image/png": "[encoded data removed]",
      "text/plain": [
       "<Figure size 1200x400 with 2 Axes>"
      ]
     },
     "metadata": {},
     "output_type": "display_data"
    },
    {
     "name": "stdout",
     "output_type": "stream",
     "text": [
      "\n",
      "Features contributing to 80% of importance: 2\n",
      "Features contributing to 90% of importance: 3\n"
     ]
    }
   ],
   "source": [
    "# Random Forest specific analysis\n",
    "print(\"Random Forest Model Analysis:\")\n",
    "print(f\"Number of trees: {rf_model.n_estimators}\")\n",
    "\n",
    "# Get tree depths (sample from first few trees)\n",
    "tree_depths = []\n",
    "for i in range(min(10, rf_model.n_estimators)):\n",
    "    tree_depths.append(rf_model.estimators_[i].tree_.max_depth)\n",
    "\n",
    "print(f\"Average tree depth (sample of 10 trees): {np.mean(tree_depths):.2f}\")\n",
    "print(f\"Max tree depth (sample): {max(tree_depths)}\")\n",
    "print(f\"Min tree depth (sample): {min(tree_depths)}\")\n",
    "\n",
    "# Feature importance distribution\n",
    "plt.figure(figsize=(12, 4))\n",
    "\n",
    "plt.subplot(1, 2, 1)\n",
    "plt.hist(rf_model.feature_importances_, bins=15, alpha=0.7, color='forestgreen')\n",
    "plt.title('Distribution of Feature Importances')\n",
    "plt.xlabel('Importance Score')\n",
    "plt.ylabel('Number of Features')\n",
    "plt.grid(True, alpha=0.3)\n",
    "\n",
    "plt.subplot(1, 2, 2)\n",
    "cumulative_importance = np.cumsum(feature_importance['Importance'].values)\n",
    "plt.plot(range(1, len(cumulative_importance) + 1), cumulative_importance, 'o-', color='forestgreen')\n",
    "plt.title('Cumulative Feature Importance')\n",
    "plt.xlabel('Number of Top Features')\n",
    "plt.ylabel('Cumulative Importance')\n",
    "plt.grid(True, alpha=0.3)\n",
    "\n",
    "# Add horizontal lines for reference\n",
    "plt.axhline(y=0.8, color='red', linestyle='--', alpha=0.7, label='80%')\n",
    "plt.axhline(y=0.9, color='orange', linestyle='--', alpha=0.7, label='90%')\n",
    "plt.legend()\n",
    "\n",
    "plt.tight_layout()\n",
    "plt.show()\n",
    "\n",
    "# Find how many features contribute to 80% and 90% of importance\n",
    "features_80 = np.argmax(cumulative_importance >= 0.8) + 1\n",
    "features_90 = np.argmax(cumulative_importance >= 0.9) + 1\n",
    "print(f\"\\nFeatures contributing to 80% of importance: {features_80}\")\n",
    "print(f\"Features contributing to 90% of importance: {features_90}\")"
   ]
  },
  {
   "cell_type": "markdown",
   "id": "2b1e2b78",
   "metadata": {},
   "source": [
    "## 8. Make Predictions on Test Set\n",
    "\n",
    "Use the trained model to make predictions on the test dataset."
   ]
  },
  {
   "cell_type": "code",
   "execution_count": 26,
   "id": "ac95a261",
   "metadata": {},
   "outputs": [
    {
     "name": "stdout",
     "output_type": "stream",
     "text": [
      "Test predictions shape: (3605,)\n",
      "\n",
      "First 10 test predictions:\n",
      "[49.54446348 19.45042062 35.56552641 48.43127708 33.81426914 37.20248037\n",
      " 34.82226351 19.59269498 41.47820054 39.19580906]\n",
      "\n",
      "Test predictions statistics:\n",
      "Mean: 35.4880\n",
      "Median: 37.0451\n",
      "Std: 10.7975\n",
      "Min: 15.7548\n",
      "Max: 60.0912\n",
      "\n",
      "Number of negative predictions: 0\n"
     ]
    }
   ],
   "source": [
    "# Make predictions on the test set\n",
    "test_predictions = rf_model.predict(X_test_final)\n",
    "\n",
    "print(f\"Test predictions shape: {test_predictions.shape}\")\n",
    "print(f\"\\nFirst 10 test predictions:\")\n",
    "print(test_predictions[:10])\n",
    "\n",
    "print(f\"\\nTest predictions statistics:\")\n",
    "print(f\"Mean: {test_predictions.mean():.4f}\")\n",
    "print(f\"Median: {np.median(test_predictions):.4f}\")\n",
    "print(f\"Std: {test_predictions.std():.4f}\")\n",
    "print(f\"Min: {test_predictions.min():.4f}\")\n",
    "print(f\"Max: {test_predictions.max():.4f}\")\n",
    "\n",
    "# Check for any negative predictions (shouldn't happen for concrete strength)\n",
    "negative_predictions = (test_predictions < 0).sum()\n",
    "print(f\"\\nNumber of negative predictions: {negative_predictions}\")\n",
    "if negative_predictions > 0:\n",
    "    print(\"Warning: Random Forest produced negative predictions for concrete strength!\")"
   ]
  },
  {
   "cell_type": "markdown",
   "id": "858d877f",
   "metadata": {},
   "source": [
    "## 9. Save Predictions to CSV File\n",
    "\n",
    "Create a submission dataframe with predictions and save it to 'submission.csv' using pandas."
   ]
  },
  {
   "cell_type": "code",
   "execution_count": 27,
   "id": "a789347e",
   "metadata": {},
   "outputs": [
    {
     "name": "stdout",
     "output_type": "stream",
     "text": [
      "Submission dataframe created:\n",
      "     id   Strength\n",
      "0  5407  49.544463\n",
      "1  5408  19.450421\n",
      "2  5409  35.565526\n",
      "3  5410  48.431277\n",
      "4  5411  33.814269\n",
      "5  5412  37.202480\n",
      "6  5413  34.822264\n",
      "7  5414  19.592695\n",
      "8  5415  41.478201\n",
      "9  5416  39.195809\n",
      "\n",
      "Submission shape: (3605, 2)\n",
      "\n",
      "Sample submission shape: (3605, 2)\n",
      "Columns match: True\n"
     ]
    }
   ],
   "source": [
    "# Create submission dataframe\n",
    "submission = pd.DataFrame({\n",
    "    'id': test_df['id'],\n",
    "    'Strength': test_predictions\n",
    "})\n",
    "\n",
    "print(\"Submission dataframe created:\")\n",
    "print(submission.head(10))\n",
    "print(f\"\\nSubmission shape: {submission.shape}\")\n",
    "\n",
    "# Verify the format matches sample submission\n",
    "print(f\"\\nSample submission shape: {sample_submission.shape}\")\n",
    "print(f\"Columns match: {list(submission.columns) == list(sample_submission.columns)}\")"
   ]
  },
  {
   "cell_type": "code",
   "execution_count": 28,
   "id": "f6ae56fe",
   "metadata": {},
   "outputs": [
    {
     "name": "stdout",
     "output_type": "stream",
     "text": [
      "Predictions saved to 'submission.csv' successfully!\n",
      "\n",
      "Verification - File shape: (3605, 2)\n",
      "First 5 rows of saved file:\n",
      "     id   Strength\n",
      "0  5407  41.420407\n",
      "1  5408  26.427090\n",
      "2  5409  35.814709\n",
      "3  5410  47.353726\n",
      "4  5411  32.787514\n",
      "\n",
      "Last 5 rows of saved file:\n",
      "        id   Strength\n",
      "3600  9007  33.032163\n",
      "3601  9008  34.518558\n",
      "3602  9009  41.075753\n",
      "3603  9010  27.931317\n",
      "3604  9011  20.195344\n"
     ]
    }
   ],
   "source": [
    "# Save to CSV file\n",
    "submission.to_csv('submission_rf_2.csv', index=False)\n",
    "\n",
    "print(\"Predictions saved to 'submission.csv' successfully!\")\n",
    "\n",
    "# Verify the file was created and read it back\n",
    "verification = pd.read_csv('submission.csv')\n",
    "print(f\"\\nVerification - File shape: {verification.shape}\")\n",
    "print(\"First 5 rows of saved file:\")\n",
    "print(verification.head())\n",
    "print(\"\\nLast 5 rows of saved file:\")\n",
    "print(verification.tail())"
   ]
  },
  {
   "cell_type": "markdown",
   "id": "86caa820",
   "metadata": {},
   "source": [
    "## Summary\n",
    "\n",
    "### Model Performance:\n",
    "- **Model Type**: Linear Regression\n",
    "- **Validation R² Score**: Check the output above\n",
    "- **Validation RMSE**: Check the output above\n",
    "\n",
    "### Key Findings:\n",
    "1. **Feature Importance**: The model coefficients show which concrete components have the strongest impact on strength\n",
    "2. **Data Quality**: No missing values in the dataset\n",
    "3. **Model Performance**: Linear regression provides a baseline model for concrete strength prediction\n",
    "\n",
    "### Next Steps for Improvement:\n",
    "1. Try polynomial features or interaction terms\n",
    "2. Experiment with other regression models (Random Forest, Gradient Boosting)\n",
    "3. Feature engineering (ratios between components)\n",
    "4. Cross-validation for more robust performance estimation\n",
    "\n",
    "The predictions have been saved to `submission.csv` and are ready for submission!"
   ]
  }
 ],
 "metadata": {
  "kernelspec": {
   "display_name": "base",
   "language": "python",
   "name": "python3"
  },
  "language_info": {
   "codemirror_mode": {
    "name": "ipython",
    "version": 3
   },
   "file_extension": ".py",
   "mimetype": "text/x-python",
   "name": "python",
   "nbconvert_exporter": "python",
   "pygments_lexer": "ipython3",
   "version": "3.13.5"
  }
 },
 "nbformat": 4,
 "nbformat_minor": 5
}
